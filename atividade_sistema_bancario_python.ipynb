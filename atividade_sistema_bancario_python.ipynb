{
 "cells": [
  {
   "cell_type": "code",
   "execution_count": null,
   "id": "7076c9d4",
   "metadata": {},
   "outputs": [],
   "source": [
    "n = int(input())\n",
    "\n",
    "while(n > 0):\n",
    "    entrada = input()\n",
    "  \n",
    "    a,b = entrada.split(' ')\n",
    "  \n",
    "    tamanho_b = len(b)\n",
    "    final_a = a[len(a) - tamanho_b:]\n",
    "  \n",
    "    if (b == final_a):\n",
    "        print('encaixa')\n",
    "    else:\n",
    "        print('nao')\n",
    "    n -= 1"
   ]
  },
  {
   "cell_type": "markdown",
   "id": "0d17540e",
   "metadata": {},
   "source": [
    "DESAFIO BANCARIO"
   ]
  },
  {
   "cell_type": "code",
   "execution_count": 9,
   "id": "cb979362",
   "metadata": {},
   "outputs": [
    {
     "name": "stdout",
     "output_type": "stream",
     "text": [
      "\n",
      "*****************\n",
      "[1] - DEPOSITO\n",
      "[2] - SAQUE\n",
      "[3] - EXTRATO\n",
      "[4] - SAIR\n",
      "\n",
      "*****************\n",
      ">>Digite a opção desejada:\n",
      "1\n",
      "\n",
      "Digite o valor do depósito: 123\n",
      "Depósito de R$ 123.00 realizado com sucesso. Saldo atual: 123.00\n",
      "\n",
      "*****************\n",
      "[1] - DEPOSITO\n",
      "[2] - SAQUE\n",
      "[3] - EXTRATO\n",
      "[4] - SAIR\n",
      "\n",
      "*****************\n",
      ">>Digite a opção desejada:\n",
      "4\n"
     ]
    }
   ],
   "source": [
    "menu = \"\"\"\n",
    "*****************\n",
    "[1] - DEPOSITO\n",
    "[2] - SAQUE\n",
    "[3] - EXTRATO\n",
    "[4] - SAIR\\n\n",
    "*****************\n",
    ">>Digite a opção desejada:\n",
    "\"\"\"\n",
    "saldo = 0.00\n",
    "total_saques = 0\n",
    "items_extrato = []\n",
    "LIMITE_SAQUES = 3\n",
    "LIMITE_VALOR = 500.00\n",
    "\n",
    "while True:\n",
    "    op = input(menu)\n",
    "    \n",
    "    if(op == '1'):\n",
    "        valor_dep = float(input(\"\\nDigite o valor do depósito: \"))\n",
    "        if valor_dep > 0 :\n",
    "            saldo += float(valor_dep)\n",
    "            print(\"Depósito de R$ {0:.2f} realizado com sucesso. Saldo atual: {1:.2f}\".format(valor_dep, saldo))\n",
    "            items_extrato.append(\"Depósito...........R$ \"+str(valor_dep)+\"C\")\n",
    "        else:\n",
    "            print(\"Digite um valor válido.\")\n",
    "            \n",
    "    elif (op == '2'):\n",
    "        if total_saques >= 3:\n",
    "            print(\"Desculpe, mas você excedeu o limite diário de 3 saques.\")\n",
    "        else:\n",
    "            vl_saque = float(input(\"Informe o valor do saque desejado: \"))\n",
    "        \n",
    "            if vl_saque < 0 or vl_saque > 500:\n",
    "                print(\"Digite um valor válido. O valor máximo permitido é R$ 500,00\")\n",
    "            elif vl_saque > saldo:\n",
    "                print(\"Saldo indisponível. Seu saldo atual é {:.2f}\".format(saldo))\n",
    "            else:\n",
    "                saldo -= vl_saque\n",
    "                print(\"Saque de R$ {0:.2f} realizado com sucesso. Saldo atual: {1:.2f}\".format(vl_saque, saldo))\n",
    "                items_extrato.append(\"Saque..............R$ \"+str(vl_saque)+\"D\")\n",
    "                total_saques += 1\n",
    "    elif (op == '3'):\n",
    "        for i in items_extrato:\n",
    "            print('{:.2f}'.format(float(i)))\n",
    "        print(\"Saldo atual........R$ {:.2f}\".format(saldo))\n",
    "    else:\n",
    "        break\n"
   ]
  },
  {
   "cell_type": "code",
   "execution_count": null,
   "id": "0a4c47d1",
   "metadata": {},
   "outputs": [],
   "source": []
  },
  {
   "cell_type": "code",
   "execution_count": null,
   "id": "fbac08a2",
   "metadata": {},
   "outputs": [],
   "source": []
  }
 ],
 "metadata": {
  "kernelspec": {
   "display_name": "Python 3 (ipykernel)",
   "language": "python",
   "name": "python3"
  },
  "language_info": {
   "codemirror_mode": {
    "name": "ipython",
    "version": 3
   },
   "file_extension": ".py",
   "mimetype": "text/x-python",
   "name": "python",
   "nbconvert_exporter": "python",
   "pygments_lexer": "ipython3",
   "version": "3.11.3"
  }
 },
 "nbformat": 4,
 "nbformat_minor": 5
}
